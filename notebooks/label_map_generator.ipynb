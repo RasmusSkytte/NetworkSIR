{
 "metadata": {
  "language_info": {
   "codemirror_mode": {
    "name": "ipython",
    "version": 3
   },
   "file_extension": ".py",
   "mimetype": "text/x-python",
   "name": "python",
   "nbconvert_exporter": "python",
   "pygments_lexer": "ipython3",
   "version": "3.9.1-final"
  },
  "orig_nbformat": 2,
  "kernelspec": {
   "name": "python391jvsc74a57bd069a1b0cb2bfd74b2932ae7f45689c777c363b026a27ace5d6f863e205f5dcfad",
   "display_name": "Python 3.9.1 64-bit ('NetworkSIR': conda)"
  }
 },
 "nbformat": 4,
 "nbformat_minor": 2,
 "cells": [
  {
   "cell_type": "code",
   "execution_count": 2,
   "metadata": {},
   "outputs": [],
   "source": [
    "import pandas as pd"
   ]
  },
  {
   "source": [
    "# Helper function"
   ],
   "cell_type": "markdown",
   "metadata": {}
  },
  {
   "cell_type": "code",
   "execution_count": 3,
   "metadata": {},
   "outputs": [],
   "source": [
    "def construct_map(label_map, label_names) :\n",
    "\n",
    "    label = []\n",
    "    label_destination = []\n",
    "    for i, n_labels in enumerate(list(map(len, label_map))) :\n",
    "        label.extend(label_map[i])\n",
    "        label_destination.extend([label_names[i]]*n_labels)\n",
    "\n",
    "    return dict(zip(label, label_destination))"
   ]
  },
  {
   "source": [
    "# Region til Danmark"
   ],
   "cell_type": "markdown",
   "metadata": {}
  },
  {
   "cell_type": "code",
   "execution_count": 4,
   "metadata": {},
   "outputs": [],
   "source": [
    "label_map = [['Hovedstaden', 'Sjælland', 'Syddanmark', 'Midtjylland', 'Nordjylland']]\n",
    "\n",
    "label_names = ['Danmark'] "
   ]
  },
  {
   "cell_type": "code",
   "execution_count": 5,
   "metadata": {},
   "outputs": [
    {
     "output_type": "execute_result",
     "data": {
      "text/plain": [
       "Hovedstaden    Danmark\n",
       "Sjælland       Danmark\n",
       "Syddanmark     Danmark\n",
       "Midtjylland    Danmark\n",
       "Nordjylland    Danmark\n",
       "Name: region_to_country, dtype: object"
      ]
     },
     "metadata": {},
     "execution_count": 5
    }
   ],
   "source": [
    "pd.Series(data = construct_map(label_map, label_names), name = 'region_to_country')"
   ]
  },
  {
   "source": [
    "# Landsdel til region"
   ],
   "cell_type": "markdown",
   "metadata": {}
  },
  {
   "cell_type": "code",
   "execution_count": 6,
   "metadata": {},
   "outputs": [],
   "source": [
    "label_map = [['Byen København', 'Københavns omegn', 'Nordsjælland', 'Bornholm'],\n",
    "             ['Østsjælland', 'Vest- og Sydsjælland'],\n",
    "             ['Fyn', 'Sydjylland'],\n",
    "             ['Vestjylland', 'Østjylland'], \n",
    "             ['Nordjylland']]\n",
    "\n",
    "label_names = ['Hovedstaden', 'Sjælland', 'Syddanmark', 'Midtjylland', 'Nordjylland'] "
   ]
  },
  {
   "cell_type": "code",
   "execution_count": 7,
   "metadata": {},
   "outputs": [
    {
     "output_type": "execute_result",
     "data": {
      "text/plain": [
       "Byen København          Hovedstaden\n",
       "Københavns omegn        Hovedstaden\n",
       "Nordsjælland            Hovedstaden\n",
       "Bornholm                Hovedstaden\n",
       "Østsjælland                Sjælland\n",
       "Vest- og Sydsjælland       Sjælland\n",
       "Fyn                      Syddanmark\n",
       "Sydjylland               Syddanmark\n",
       "Vestjylland             Midtjylland\n",
       "Østjylland              Midtjylland\n",
       "Nordjylland             Nordjylland\n",
       "Name: landsdel_to_region, dtype: object"
      ]
     },
     "metadata": {},
     "execution_count": 7
    }
   ],
   "source": [
    "pd.Series(data = construct_map(label_map, label_names), name = 'landsdel_to_region')"
   ]
  },
  {
   "source": [
    "# Kommuner til landsdel"
   ],
   "cell_type": "markdown",
   "metadata": {}
  },
  {
   "cell_type": "code",
   "execution_count": 8,
   "metadata": {},
   "outputs": [],
   "source": [
    "label_map = [['Greve', 'Køge', 'Lejre', 'Roskilde', 'Solrød'], # \"Østsjælland\"\n",
    "            ['Faxe', 'Guldborgsund', 'Holbæk', 'Kalundborg', 'Lolland', 'Næstved', 'Odsherred', 'Ringsted', 'Slagelse', 'Sorø', 'Stevns', 'Vordingborg'], # \"Vest- og Sydsjælland\"\n",
    "            ['København', 'Frederiksberg', 'Dragør', 'Tårnby'], # \"Byen København\"\n",
    "            ['Albertslund', 'Ballerup', 'Brøndby', 'Gentofte', 'Gladsaxe', 'Glostrup', 'Herlev', 'Hvidovre', 'Høje-Taastrup', 'Ishøj', 'Lyngby-Taarbæk', 'Rødovre', 'Vallensbæk'], # \"Københavns omegn\"\n",
    "            ['Allerød', 'Egedal', 'Fredensborg', 'Frederikssund', 'Furesø', 'Gribskov', 'Halsnæs', 'Helsingør', 'Hillerød', 'Hørsholm', 'Rudersdal'], # \"Nordsjælland\"\n",
    "            ['Bornholm'], # \"Bornholm\"\n",
    "            ['Aalborg', 'Brønderslev', 'Frederikshavn', 'Hjørring', 'Jammerbugt', 'Læsø', 'Mariagerfjord', 'Morsø', 'Rebild', 'Thisted', 'Vesthimmerlands'], # \"Nordjylland\"\n",
    "            ['Herning', 'Holstebro', 'Ikast-Brande', 'Lemvig', 'Ringkøbing-Skjern', 'Skive', 'Struer', 'Viborg'], # \"Vestjylland\"\n",
    "            ['Favrskov', 'Hedensted', 'Horsens', 'Norddjurs', 'Odder', 'Randers', 'Samsø', 'Silkeborg', 'Skanderborg', 'Syddjurs', 'Aarhus'], # \"Østjylland\"\n",
    "            ['Assens', 'Faaborg-Midtfyn', 'Kerteminde', 'Langeland', 'Middelfart', 'Nordfyn', 'Nyborg', 'Odense', 'Svendborg', 'Ærø'], # \"Fyn\"\n",
    "            ['Billund', 'Esbjerg', 'Fanø', 'Fredericia', 'Haderslev', 'Kolding', 'Sønderborg', 'Tønder', 'Varde', 'Vejen', 'Vejle', 'Aabenraa']] #  \"Sydjylland\"\n",
    "\n",
    "label_names = ['Østsjælland', 'Vest- og Sydsjælland', 'Byen København', 'Københavns omegn', 'Nordsjælland', 'Bornholm', 'Nordjylland', 'Vestjylland', 'Østjylland', 'Fyn', 'Sydjylland']"
   ]
  },
  {
   "cell_type": "code",
   "execution_count": 9,
   "metadata": {},
   "outputs": [
    {
     "output_type": "execute_result",
     "data": {
      "text/plain": [
       "Greve       Østsjælland\n",
       "Køge        Østsjælland\n",
       "Lejre       Østsjælland\n",
       "Roskilde    Østsjælland\n",
       "Solrød      Østsjælland\n",
       "               ...     \n",
       "Tønder       Sydjylland\n",
       "Varde        Sydjylland\n",
       "Vejen        Sydjylland\n",
       "Vejle        Sydjylland\n",
       "Aabenraa     Sydjylland\n",
       "Name: kommune_to_landsdel, Length: 98, dtype: object"
      ]
     },
     "metadata": {},
     "execution_count": 9
    }
   ],
   "source": [
    "pd.Series(data = construct_map(label_map, label_names), name = 'kommune_to_landsdel')"
   ]
  },
  {
   "source": [
    "# Sogne to kommune"
   ],
   "cell_type": "markdown",
   "metadata": {}
  },
  {
   "cell_type": "code",
   "execution_count": 10,
   "metadata": {},
   "outputs": [],
   "source": [
    "\n",
    "\n",
    "label_names = ['Greve', 'Køge', 'Lejre', 'Roskilde', 'Solrød', 'Faxe', 'Guldborgsund', 'Holbæk', 'Kalundborg', 'Lolland', 'Næstved', 'Odsherred', 'Ringsted', 'Slagelse', 'Sorø', 'Stevns', 'Vordingborg', 'København', 'Frederiksberg', 'Dragør', 'Tårnby', 'Albertslund', 'Ballerup', 'Brøndby', 'Gentofte', 'Gladsaxe', 'Glostrup', 'Herlev', 'Hvidovre', 'Høje-Taastrup', 'Ishøj', 'Lyngby-Taarbæk', 'Rødovre', 'Vallensbæk', 'Allerød', 'Egedal', 'Fredensborg', 'Frederikssund', 'Furesø', 'Gribskov', 'Halsnæs', 'Helsingør', 'Hillerød', 'Hørsholm', 'Rudersdal', 'Bornholm', 'Aalborg', 'Brønderslev', 'Frederikshavn', 'Hjørring', 'Jammerbugt', 'Læsø', 'Mariagerfjord', 'Morsø', 'Rebild', 'Thisted', 'Vesthimmerlands', 'Herning', 'Holstebro', 'Ikast-Brande', 'Lemvig', 'Ringkøbing-Skjern', 'Skive', 'Struer', 'Viborg', 'Favrskov', 'Hedensted', 'Horsens', 'Norddjurs', 'Odder', 'Randers', 'Samsø', 'Silkeborg', 'Skanderborg', 'Syddjurs', 'Aarhus','Assens', 'Faaborg-Midtfyn', 'Kerteminde', 'Langeland', 'Middelfart', 'Nordfyn', 'Nyborg', 'Odense', 'Svendborg', 'Ærø', 'Billund', 'Esbjerg', 'Fanø', 'Fredericia', 'Haderslev', 'Kolding', 'Sønderborg', 'Tønder', 'Varde', 'Vejen', 'Vejle', 'Aabenraa'] "
   ]
  }
 ]
}