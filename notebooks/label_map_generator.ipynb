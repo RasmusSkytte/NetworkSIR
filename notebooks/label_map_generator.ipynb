{
 "cells": [
  {
   "cell_type": "code",
   "execution_count": 1,
   "metadata": {},
   "outputs": [
    {
     "name": "stdout",
     "output_type": "stream",
     "text": [
      "c:\\Python\\NetworkSIR\n"
     ]
    }
   ],
   "source": [
    "%cd ..\n",
    "\n",
    "import pandas as pd\n",
    "import numpy as np\n",
    "\n",
    "from src.utils import file_loaders\n",
    "from src.utils import utils"
   ]
  },
  {
   "cell_type": "markdown",
   "metadata": {},
   "source": [
    "# Helper function"
   ]
  },
  {
   "cell_type": "code",
   "execution_count": 2,
   "metadata": {},
   "outputs": [],
   "source": [
    "def construct_map(label_map, label_names) :\n",
    "\n",
    "    label = []\n",
    "    label_destination = []\n",
    "    for i, n_labels in enumerate(list(map(len, label_map))) :\n",
    "        label.extend(label_map[i])\n",
    "        label_destination.extend([label_names[i]]*n_labels)\n",
    "\n",
    "    return dict(zip(label, label_destination))"
   ]
  },
  {
   "cell_type": "markdown",
   "metadata": {},
   "source": [
    "# Region til Danmark"
   ]
  },
  {
   "cell_type": "code",
   "execution_count": 3,
   "metadata": {},
   "outputs": [],
   "source": [
    "region_map = [['Hovedstaden', 'Sjælland', 'Syddanmark', 'Midtjylland', 'Nordjylland']]\n",
    "land       = ['Danmark'] \n",
    "\n",
    "region     = [item for sublist in region_map for item in sublist]\n",
    "region_idx = np.arange(len(region))\n",
    "\n",
    "region_to_country     = pd.Series(construct_map(region_map, land))\n",
    "region_to_country_idx = pd.Series(construct_map(region_map, [0]))"
   ]
  },
  {
   "cell_type": "markdown",
   "metadata": {},
   "source": [
    "# Landsdel til region"
   ]
  },
  {
   "cell_type": "code",
   "execution_count": 4,
   "metadata": {},
   "outputs": [],
   "source": [
    "landsdel_map = [['Byen København', 'Københavns omegn', 'Nordsjælland', 'Bornholm'],\n",
    "                ['Østsjælland', 'Vest- og Sydsjælland'],\n",
    "                ['Fyn', 'Sydjylland'],\n",
    "                ['Vestjylland', 'Østjylland'], \n",
    "                ['Nordjylland']]\n",
    "\n",
    "landsdel     = [item for sublist in landsdel_map for item in sublist]\n",
    "landsdel_idx = np.arange(len(landsdel))\n",
    "\n",
    "landsdel_to_region     = pd.Series(construct_map(landsdel_map, region))\n",
    "landsdel_to_region_idx = pd.Series(construct_map(landsdel_map, region_idx))"
   ]
  },
  {
   "cell_type": "markdown",
   "metadata": {},
   "source": [
    "# Kommuner til landsdel"
   ]
  },
  {
   "cell_type": "code",
   "execution_count": 5,
   "metadata": {},
   "outputs": [],
   "source": [
    "kommune_map = [['Greve', 'Køge', 'Lejre', 'Roskilde', 'Solrød'], # \"Østsjælland\"\n",
    "               ['Faxe', 'Guldborgsund', 'Holbæk', 'Kalundborg', 'Lolland', 'Næstved', 'Odsherred', 'Ringsted', 'Slagelse', 'Sorø', 'Stevns', 'Vordingborg'], # \"Vest- og Sydsjælland\"\n",
    "               ['København', 'Frederiksberg', 'Dragør', 'Tårnby'], # \"Byen København\"\n",
    "               ['Albertslund', 'Ballerup', 'Brøndby', 'Gentofte', 'Gladsaxe', 'Glostrup', 'Herlev', 'Hvidovre', 'Høje-Taastrup', 'Ishøj', 'Lyngby-Taarbæk', 'Rødovre', 'Vallensbæk'], # \"Københavns omegn\"\n",
    "               ['Allerød', 'Egedal', 'Fredensborg', 'Frederikssund', 'Furesø', 'Gribskov', 'Halsnæs', 'Helsingør', 'Hillerød', 'Hørsholm', 'Rudersdal'], # \"Nordsjælland\"\n",
    "               ['Bornholm'], # \"Bornholm\"\n",
    "               ['Aalborg', 'Brønderslev', 'Frederikshavn', 'Hjørring', 'Jammerbugt', 'Læsø', 'Mariagerfjord', 'Morsø', 'Rebild', 'Thisted', 'Vesthimmerlands'], # \"Nordjylland\"\n",
    "               ['Herning', 'Holstebro', 'Ikast-Brande', 'Lemvig', 'Ringkøbing-Skjern', 'Skive', 'Struer', 'Viborg'], # \"Vestjylland\"\n",
    "               ['Favrskov', 'Hedensted', 'Horsens', 'Norddjurs', 'Odder', 'Randers', 'Samsø', 'Silkeborg', 'Skanderborg', 'Syddjurs', 'Aarhus'], # \"Østjylland\"\n",
    "               ['Assens', 'Faaborg-Midtfyn', 'Kerteminde', 'Langeland', 'Middelfart', 'Nordfyns', 'Nyborg', 'Odense', 'Svendborg', 'Ærø'], # \"Fyn\"\n",
    "               ['Billund', 'Esbjerg', 'Fanø', 'Fredericia', 'Haderslev', 'Kolding', 'Sønderborg', 'Tønder', 'Varde', 'Vejen', 'Vejle', 'Aabenraa']] #  \"Sydjylland\"\n",
    "            \n",
    "kommune_to_landsdel     = pd.Series(construct_map(kommune_map, landsdel))\n",
    "kommune_to_landsdel_idx = pd.Series(construct_map(kommune_map, landsdel_idx))\n"
   ]
  },
  {
   "cell_type": "markdown",
   "metadata": {},
   "source": [
    "# Sogne to kommune"
   ]
  },
  {
   "cell_type": "code",
   "execution_count": 6,
   "metadata": {},
   "outputs": [],
   "source": [
    "sogne, sogn_code_to_idx, sogn_idx_to_sogn_code = file_loaders.load_sogne_shapefiles()\n",
    "sogne.index = sogne.index.astype(int)\n",
    "\n",
    "_, kommune_to_kommune_idx, kommune_idx_to_kommune = file_loaders.load_kommune_shapefiles()\n",
    "household_size_distribution_sogn, _ = file_loaders.load_household_data_sogn(kommune_to_kommune_idx)\n",
    "\n",
    "sogn_idx_to_kommune_idx = pd.Series(data = file_loaders.load_sogn_to_kommune_idx(), name='sogn_idx_to_kommune_idx')\n",
    "kommune_idx_to_kommune  = pd.Series(data = kommune_idx_to_kommune, name='kommune_idx_to_kommune')"
   ]
  },
  {
   "cell_type": "code",
   "execution_count": 7,
   "metadata": {},
   "outputs": [],
   "source": [
    "g_sogn_code = household_size_distribution_sogn.index.values\n",
    "sogne_map = pd.Series(data=g_sogn_code, name='sogne_map', index=g_sogn_code)\n",
    "sogne_translator = pd.Series({7247:9323, 7247:9323, 7636:9195, 8885:9196, 7249:9315, 8744:9317, 7615:9318, 7250:9315, 7625:9194, 8654:9320, 9271:9196, 7643:9319, 7447:9311, 7616:9318, 8141:9316, 8164:9193, 8306:9191, 7240:9183, 8688:9198, 8846:9314, 7618:9318, 7902:9188, 7365:9322, 8884:9196, 7252:9312, 7619:9321, 7025:9190, 8320:9187, 9227:9197, 7398:9186, 7244:9183, 7329:9324, 7241:9183, 7397:9186, 8743:9317, 7637:9195, 7302:9189, 7612:9318, 8321:9187, 7647:9319, 8623:9215, 8687:9198, 7030:9190, 7366:9322, 7328:9324, 7638:9195, 7242:9183, 8322:9232, 7293:9192, 8163:9193, 8831:9199, 7331:9324, 8830:9199, 9064:9197, 9261:9188, 8845:9314, 7301:9189, 8923:9313, 7617:9318, 7243:9183, 8924:9313, 7624:9194, 7292:9192, 7251:9312, 8307:9191, 8653:9320, 9086:9316, 7621:9194, 7620:9321, 7248:9323, 9245:9315, 8620:9214, 7282:9292})\n",
    "sogne_map = sogne_map.replace(sogne_translator)"
   ]
  },
  {
   "cell_type": "markdown",
   "metadata": {},
   "source": [
    "# Construct the label map"
   ]
  },
  {
   "cell_type": "code",
   "execution_count": 8,
   "metadata": {},
   "outputs": [],
   "source": [
    "sogn_kode    = sogne_map.unique()\n",
    "sogn_idx     = np.arange(len(sogn_kode))"
   ]
  },
  {
   "cell_type": "code",
   "execution_count": 9,
   "metadata": {},
   "outputs": [],
   "source": [
    "kommune_idx  = sogn_idx_to_kommune_idx[~sogne_map.duplicated().values].values\n",
    "kommune      = kommune_idx_to_kommune[kommune_idx].values\n",
    "# fix error in kommune_idx\n",
    "kommune_idx[kommune_idx > 11] -= 1"
   ]
  },
  {
   "cell_type": "code",
   "execution_count": 10,
   "metadata": {},
   "outputs": [],
   "source": [
    "landsdel_idx = kommune_to_landsdel_idx[kommune].values\n",
    "landsdel     = kommune_to_landsdel[kommune].values"
   ]
  },
  {
   "cell_type": "code",
   "execution_count": 11,
   "metadata": {},
   "outputs": [],
   "source": [
    "region_idx   = landsdel_to_region_idx[landsdel].values\n",
    "region       = landsdel_to_region[landsdel].values"
   ]
  },
  {
   "cell_type": "code",
   "execution_count": 12,
   "metadata": {},
   "outputs": [
    {
     "data": {
      "text/html": "<div>\n<style scoped>\n    .dataframe tbody tr th:only-of-type {\n        vertical-align: middle;\n    }\n\n    .dataframe tbody tr th {\n        vertical-align: top;\n    }\n\n    .dataframe thead th {\n        text-align: right;\n    }\n</style>\n<table border=\"1\" class=\"dataframe\">\n  <thead>\n    <tr style=\"text-align: right;\">\n      <th></th>\n      <th>sogn</th>\n      <th>kommune</th>\n      <th>kommune_idx</th>\n      <th>landsdel</th>\n      <th>landsdel_idx</th>\n      <th>region</th>\n      <th>region_idx</th>\n      <th>land</th>\n      <th>land_idx</th>\n    </tr>\n    <tr>\n      <th>sogn_idx</th>\n      <th></th>\n      <th></th>\n      <th></th>\n      <th></th>\n      <th></th>\n      <th></th>\n      <th></th>\n      <th></th>\n      <th></th>\n    </tr>\n  </thead>\n  <tbody>\n    <tr>\n      <th>0</th>\n      <td>9214</td>\n      <td>Viborg</td>\n      <td>95</td>\n      <td>Sydjylland</td>\n      <td>7</td>\n      <td>Syddanmark</td>\n      <td>2</td>\n      <td>Danmark</td>\n      <td>0</td>\n    </tr>\n    <tr>\n      <th>1</th>\n      <td>8148</td>\n      <td>Favrskov</td>\n      <td>16</td>\n      <td>Vestjylland</td>\n      <td>8</td>\n      <td>Midtjylland</td>\n      <td>3</td>\n      <td>Danmark</td>\n      <td>0</td>\n    </tr>\n    <tr>\n      <th>2</th>\n      <td>8011</td>\n      <td>Skanderborg</td>\n      <td>77</td>\n      <td>Vestjylland</td>\n      <td>8</td>\n      <td>Midtjylland</td>\n      <td>3</td>\n      <td>Danmark</td>\n      <td>0</td>\n    </tr>\n    <tr>\n      <th>3</th>\n      <td>8578</td>\n      <td>Skive</td>\n      <td>78</td>\n      <td>Sydjylland</td>\n      <td>7</td>\n      <td>Syddanmark</td>\n      <td>2</td>\n      <td>Danmark</td>\n      <td>0</td>\n    </tr>\n    <tr>\n      <th>4</th>\n      <td>8725</td>\n      <td>Thisted</td>\n      <td>87</td>\n      <td>Fyn</td>\n      <td>6</td>\n      <td>Syddanmark</td>\n      <td>2</td>\n      <td>Danmark</td>\n      <td>0</td>\n    </tr>\n    <tr>\n      <th>...</th>\n      <td>...</td>\n      <td>...</td>\n      <td>...</td>\n      <td>...</td>\n      <td>...</td>\n      <td>...</td>\n      <td>...</td>\n      <td>...</td>\n      <td>...</td>\n    </tr>\n    <tr>\n      <th>2135</th>\n      <td>8059</td>\n      <td>Horsens</td>\n      <td>40</td>\n      <td>Vestjylland</td>\n      <td>8</td>\n      <td>Midtjylland</td>\n      <td>3</td>\n      <td>Danmark</td>\n      <td>0</td>\n    </tr>\n    <tr>\n      <th>2136</th>\n      <td>7485</td>\n      <td>Vordingborg</td>\n      <td>96</td>\n      <td>Københavns omegn</td>\n      <td>1</td>\n      <td>Hovedstaden</td>\n      <td>0</td>\n      <td>Danmark</td>\n      <td>0</td>\n    </tr>\n    <tr>\n      <th>2137</th>\n      <td>7669</td>\n      <td>Lolland</td>\n      <td>55</td>\n      <td>Københavns omegn</td>\n      <td>1</td>\n      <td>Hovedstaden</td>\n      <td>0</td>\n      <td>Danmark</td>\n      <td>0</td>\n    </tr>\n    <tr>\n      <th>2138</th>\n      <td>8866</td>\n      <td>Lemvig</td>\n      <td>54</td>\n      <td>Sydjylland</td>\n      <td>7</td>\n      <td>Syddanmark</td>\n      <td>2</td>\n      <td>Danmark</td>\n      <td>0</td>\n    </tr>\n    <tr>\n      <th>2139</th>\n      <td>8894</td>\n      <td>Esbjerg</td>\n      <td>13</td>\n      <td>Nordjylland</td>\n      <td>10</td>\n      <td>Nordjylland</td>\n      <td>4</td>\n      <td>Danmark</td>\n      <td>0</td>\n    </tr>\n  </tbody>\n</table>\n<p>2140 rows × 9 columns</p>\n</div>",
      "text/plain": [
       "          sogn      kommune  kommune_idx          landsdel  landsdel_idx  \\\n",
       "sogn_idx                                                                   \n",
       "0         9214       Viborg           95        Sydjylland             7   \n",
       "1         8148     Favrskov           16       Vestjylland             8   \n",
       "2         8011  Skanderborg           77       Vestjylland             8   \n",
       "3         8578        Skive           78        Sydjylland             7   \n",
       "4         8725      Thisted           87               Fyn             6   \n",
       "...        ...          ...          ...               ...           ...   \n",
       "2135      8059      Horsens           40       Vestjylland             8   \n",
       "2136      7485  Vordingborg           96  Københavns omegn             1   \n",
       "2137      7669      Lolland           55  Københavns omegn             1   \n",
       "2138      8866       Lemvig           54        Sydjylland             7   \n",
       "2139      8894      Esbjerg           13       Nordjylland            10   \n",
       "\n",
       "               region  region_idx     land  land_idx  \n",
       "sogn_idx                                              \n",
       "0          Syddanmark           2  Danmark         0  \n",
       "1         Midtjylland           3  Danmark         0  \n",
       "2         Midtjylland           3  Danmark         0  \n",
       "3          Syddanmark           2  Danmark         0  \n",
       "4          Syddanmark           2  Danmark         0  \n",
       "...               ...         ...      ...       ...  \n",
       "2135      Midtjylland           3  Danmark         0  \n",
       "2136      Hovedstaden           0  Danmark         0  \n",
       "2137      Hovedstaden           0  Danmark         0  \n",
       "2138       Syddanmark           2  Danmark         0  \n",
       "2139      Nordjylland           4  Danmark         0  \n",
       "\n",
       "[2140 rows x 9 columns]"
      ]
     },
     "execution_count": 12,
     "metadata": {},
     "output_type": "execute_result"
    }
   ],
   "source": [
    "land_idx     = region_to_country_idx[region].values\n",
    "land         = region_to_country[region].values\n",
    "\n",
    "label_map = pd.DataFrame(data=zip(sogn_kode, kommune, kommune_idx, landsdel, landsdel_idx, region, region_idx, land, land_idx), columns=['sogn', 'kommune', 'kommune_idx', 'landsdel', 'landsdel_idx', 'region', 'region_idx', 'land', 'land_idx'], index=pd.Index(sogn_idx, name='sogn_idx'))\n",
    "label_map\n",
    "\n"
   ]
  },
  {
   "cell_type": "code",
   "execution_count": 13,
   "metadata": {},
   "outputs": [],
   "source": [
    "label_map.to_csv('Data/label_map.csv')"
   ]
  }
 ],
 "metadata": {
  "kernelspec": {
   "display_name": "Python 3.9.1 64-bit",
   "name": "python391jvsc74a57bd069a1b0cb2bfd74b2932ae7f45689c777c363b026a27ace5d6f863e205f5dcfad"
  },
  "language_info": {
   "codemirror_mode": {
    "name": "ipython",
    "version": 3
   },
   "file_extension": ".py",
   "mimetype": "text/x-python",
   "name": "python",
   "nbconvert_exporter": "python",
   "pygments_lexer": "ipython3",
   "version": "3.9.1-final"
  },
  "orig_nbformat": 2
 },
 "nbformat": 4,
 "nbformat_minor": 2
}