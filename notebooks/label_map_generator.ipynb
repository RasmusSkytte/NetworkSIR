{
 "metadata": {
  "language_info": {
   "codemirror_mode": {
    "name": "ipython",
    "version": 3
   },
   "file_extension": ".py",
   "mimetype": "text/x-python",
   "name": "python",
   "nbconvert_exporter": "python",
   "pygments_lexer": "ipython3",
   "version": "3.9.1-final"
  },
  "orig_nbformat": 2,
  "kernelspec": {
   "name": "python391jvsc74a57bd069a1b0cb2bfd74b2932ae7f45689c777c363b026a27ace5d6f863e205f5dcfad",
   "display_name": "Python 3.9.1 64-bit ('NetworkSIR': conda)"
  }
 },
 "nbformat": 4,
 "nbformat_minor": 2,
 "cells": [
  {
   "cell_type": "code",
   "execution_count": 1,
   "metadata": {},
   "outputs": [],
   "source": [
    "import pandas as pd"
   ]
  },
  {
   "source": [
    "# Helper function"
   ],
   "cell_type": "markdown",
   "metadata": {}
  },
  {
   "cell_type": "code",
   "execution_count": 2,
   "metadata": {},
   "outputs": [],
   "source": [
    "def construct_map(label_map, label_names) :\n",
    "\n",
    "    label = []\n",
    "    label_destination = []\n",
    "    for i, n_labels in enumerate(list(map(len, label_map))) :\n",
    "        label.extend(label_map[i])\n",
    "        label_destination.extend([label_names[i]]*n_labels)\n",
    "\n",
    "    return dict(zip(label, label_destination))"
   ]
  },
  {
   "source": [
    "# Region til Danmark"
   ],
   "cell_type": "markdown",
   "metadata": {}
  },
  {
   "cell_type": "code",
   "execution_count": 3,
   "metadata": {},
   "outputs": [],
   "source": [
    "label_map = [['Hovedstaden', 'Sjælland', 'Syddanmark', 'Midtjylland', 'Nordjylland']]\n",
    "\n",
    "label_names = ['Danmark'] "
   ]
  },
  {
   "cell_type": "code",
   "execution_count": 4,
   "metadata": {},
   "outputs": [],
   "source": [
    "region_to_country = pd.Series(data = construct_map(label_map, label_names), name = 'region_to_country')"
   ]
  },
  {
   "source": [
    "# Landsdel til region"
   ],
   "cell_type": "markdown",
   "metadata": {}
  },
  {
   "cell_type": "code",
   "execution_count": 5,
   "metadata": {},
   "outputs": [],
   "source": [
    "label_map = [['Byen København', 'Københavns omegn', 'Nordsjælland', 'Bornholm'],\n",
    "             ['Østsjælland', 'Vest- og Sydsjælland'],\n",
    "             ['Fyn', 'Sydjylland'],\n",
    "             ['Vestjylland', 'Østjylland'], \n",
    "             ['Nordjylland']]\n",
    "\n",
    "label_names = ['Hovedstaden', 'Sjælland', 'Syddanmark', 'Midtjylland', 'Nordjylland'] "
   ]
  },
  {
   "cell_type": "code",
   "execution_count": 6,
   "metadata": {},
   "outputs": [],
   "source": [
    "landsdel_to_region = pd.Series(data = construct_map(label_map, label_names), name = 'landsdel_to_region')"
   ]
  },
  {
   "source": [
    "# Kommuner til landsdel"
   ],
   "cell_type": "markdown",
   "metadata": {}
  },
  {
   "cell_type": "code",
   "execution_count": 7,
   "metadata": {},
   "outputs": [],
   "source": [
    "label_map = [['Greve', 'Køge', 'Lejre', 'Roskilde', 'Solrød'], # \"Østsjælland\"\n",
    "            ['Faxe', 'Guldborgsund', 'Holbæk', 'Kalundborg', 'Lolland', 'Næstved', 'Odsherred', 'Ringsted', 'Slagelse', 'Sorø', 'Stevns', 'Vordingborg'], # \"Vest- og Sydsjælland\"\n",
    "            ['København', 'Frederiksberg', 'Dragør', 'Tårnby'], # \"Byen København\"\n",
    "            ['Albertslund', 'Ballerup', 'Brøndby', 'Gentofte', 'Gladsaxe', 'Glostrup', 'Herlev', 'Hvidovre', 'Høje-Taastrup', 'Ishøj', 'Lyngby-Taarbæk', 'Rødovre', 'Vallensbæk'], # \"Københavns omegn\"\n",
    "            ['Allerød', 'Egedal', 'Fredensborg', 'Frederikssund', 'Furesø', 'Gribskov', 'Halsnæs', 'Helsingør', 'Hillerød', 'Hørsholm', 'Rudersdal'], # \"Nordsjælland\"\n",
    "            ['Bornholm'], # \"Bornholm\"\n",
    "            ['Aalborg', 'Brønderslev', 'Frederikshavn', 'Hjørring', 'Jammerbugt', 'Læsø', 'Mariagerfjord', 'Morsø', 'Rebild', 'Thisted', 'Vesthimmerlands'], # \"Nordjylland\"\n",
    "            ['Herning', 'Holstebro', 'Ikast-Brande', 'Lemvig', 'Ringkøbing-Skjern', 'Skive', 'Struer', 'Viborg'], # \"Vestjylland\"\n",
    "            ['Favrskov', 'Hedensted', 'Horsens', 'Norddjurs', 'Odder', 'Randers', 'Samsø', 'Silkeborg', 'Skanderborg', 'Syddjurs', 'Aarhus'], # \"Østjylland\"\n",
    "            ['Assens', 'Faaborg-Midtfyn', 'Kerteminde', 'Langeland', 'Middelfart', 'Nordfyns', 'Nyborg', 'Odense', 'Svendborg', 'Ærø'], # \"Fyn\"\n",
    "            ['Billund', 'Esbjerg', 'Fanø', 'Fredericia', 'Haderslev', 'Kolding', 'Sønderborg', 'Tønder', 'Varde', 'Vejen', 'Vejle', 'Aabenraa']] #  \"Sydjylland\"\n",
    "\n",
    "label_names = ['Østsjælland', 'Vest- og Sydsjælland', 'Byen København', 'Københavns omegn', 'Nordsjælland', 'Bornholm', 'Nordjylland', 'Vestjylland', 'Østjylland', 'Fyn', 'Sydjylland']"
   ]
  },
  {
   "cell_type": "code",
   "execution_count": 8,
   "metadata": {},
   "outputs": [],
   "source": [
    "kommune_to_landsdel = pd.Series(data = construct_map(label_map, label_names), name = 'kommune_to_landsdel')"
   ]
  },
  {
   "source": [
    "# Sogne to kommune"
   ],
   "cell_type": "markdown",
   "metadata": {}
  },
  {
   "cell_type": "code",
   "execution_count": 9,
   "metadata": {},
   "outputs": [
    {
     "output_type": "stream",
     "name": "stdout",
     "text": [
      "c:\\Python\\NetworkSIR\n"
     ]
    }
   ],
   "source": [
    "%cd .."
   ]
  },
  {
   "cell_type": "code",
   "execution_count": 10,
   "metadata": {},
   "outputs": [],
   "source": [
    "import numpy as np\n",
    "\n",
    "from src.utils import file_loaders\n",
    "from src.utils import utils\n",
    "\n",
    "sogne, sogn_code_to_idx, sogn_idx_to_sogn_code = file_loaders.load_sogne_shapefiles(False)\n",
    "sogne.index = sogne.index.astype(int)\n",
    "\n",
    "sogne_translator= pd.Series({7247:9323, 7247:9323, 7636:9195, 8885:9196, 7249:9315, 8744:9317, 7615:9318, 7250:9315, 7625:9194, 8654:9320, 9271:9196, 7643:9319, 7447:9311, 7616:9318, 8141:9316, 8164:9193, 8306:9191, 7240:9183, 8688:9198, 8846:9314, 7618:9318, 7902:9188, 7365:9322, 8884:9196, 7252:9312, 7619:9321, 7025:9190, 8320:9187, 9227:9197, 7398:9186, 7244:9183, 7329:9324, 7241:9183, 7397:9186, 8743:9317, 7637:9195, 7302:9189, 7612:9318, 8321:9187, 7647:9319, 8623:9215, 8687:9198, 7030:9190, 7366:9322, 7328:9324, 7638:9195, 7242:9183, 8322:9232, 7293:9192, 8163:9193, 8831:9199, 7331:9324, 8830:9199, 9064:9197, 9261:9188, 8845:9314, 7301:9189, 8923:9313, 7617:9318, 7243:9183, 8924:9313, 7624:9194, 7292:9192, 7251:9312, 8307:9191, 8653:9320, 9086:9316, 7621:9194, 7620:9321, 7248:9323, 9245:9315, 8620:9214, 7282:9292})\n",
    "\n",
    "_, kommune_to_kommune_idx, kommune_idx_to_kommune = file_loaders.load_kommune_shapefiles()\n",
    "household_size_distribution_sogn, _ = file_loaders.load_household_data_sogn(kommune_to_kommune_idx)\n",
    "\n",
    "sogn_idx_to_kommune_idx = pd.Series(data = file_loaders.load_sogn_to_kommune_idx(), name='sogn_idx_to_kommune_idx')\n",
    "kommune_idx_to_kommune  = pd.Series(data = kommune_idx_to_kommune, name='kommune_idx_to_kommune')"
   ]
  },
  {
   "cell_type": "code",
   "execution_count": 11,
   "metadata": {},
   "outputs": [],
   "source": [
    "sogn_code = household_size_distribution_sogn.index.values\n",
    "sogne_map = pd.Series(data = sogn_code, name='sogne_map')\n",
    "sogne_map = sogne_map.replace(sogne_translator)"
   ]
  },
  {
   "source": [
    "# Construct the label map"
   ],
   "cell_type": "markdown",
   "metadata": {}
  },
  {
   "cell_type": "code",
   "execution_count": 13,
   "metadata": {},
   "outputs": [],
   "source": [
    "sogn_id = sogn_idx_to_kommune_idx[~sogne_map.duplicated()]\n",
    "#sogn     = \n",
    "kommune  = kommune_idx_to_kommune[sogn_id].values\n",
    "landsdel = kommune_to_landsdel[kommune].values\n",
    "region   = landsdel_to_region[landsdel].values\n",
    "land     = region_to_country[region].values\n",
    "\n",
    "label_map = pd.DataFrame(zip(kommune, landsdel, region, land), columns=['kommune', 'landsdel', 'region', 'land'], index = sogne_map.unique())\n",
    "\n",
    "label_map = label_map[~label_map.index.duplicated(keep='first')]\n",
    "\n",
    "label_map.to_csv('Data/label_map.csv')"
   ]
  },
  {
   "cell_type": "code",
   "execution_count": 62,
   "metadata": {},
   "outputs": [
    {
     "output_type": "execute_result",
     "data": {
      "text/plain": [
       "Int64Index([9214, 8568, 9215, 8566, 8591, 8499, 8502, 8595, 8565, 8617, 8563,\n",
       "            8624, 8535, 8534, 8567, 8621, 8504, 8615, 8616, 8485, 8526, 8484,\n",
       "            8509, 8536, 8639, 8619, 8594, 8505, 8533, 9126, 9168, 8625, 8503,\n",
       "            8527, 8507, 8627, 8523, 8641, 8501, 8640, 8525, 8571, 8593, 8529,\n",
       "            8564, 8638, 8636, 8634, 8500, 8497, 8602, 8508, 8570, 9079, 8498,\n",
       "            9149, 8531, 8569, 8532, 8528, 8618, 8530, 8603, 8637, 8622, 8635,\n",
       "            8614, 8613],\n",
       "           dtype='int64')"
      ]
     },
     "metadata": {},
     "execution_count": 62
    }
   ],
   "source": [
    "label_map.index[label_map['kommune'] == 'Viborg']"
   ]
  },
  {
   "cell_type": "code",
   "execution_count": 38,
   "metadata": {},
   "outputs": [
    {
     "output_type": "execute_result",
     "data": {
      "text/plain": [
       "SOGNEKODE\n",
       "9214    Bjerring\n",
       "8148    Hadbjerg\n",
       "8011     Blegind\n",
       "8578      Otting\n",
       "8725    Thorsted\n",
       "          ...   \n",
       "7485       Nyord\n",
       "7485       Nyord\n",
       "7669        Askø\n",
       "8866       Trans\n",
       "8894       Mandø\n",
       "Name: SOGNENAVN, Length: 3830, dtype: object"
      ]
     },
     "metadata": {},
     "execution_count": 38
    }
   ],
   "source": [
    "sogne['SOGNENAVN'][sogne_map.unique()]"
   ]
  },
  {
   "cell_type": "code",
   "execution_count": 37,
   "metadata": {},
   "outputs": [
    {
     "output_type": "execute_result",
     "data": {
      "text/plain": [
       "2140"
      ]
     },
     "metadata": {},
     "execution_count": 37
    }
   ],
   "source": [
    "len(sogne_map.unique())"
   ]
  },
  {
   "cell_type": "code",
   "execution_count": 44,
   "metadata": {},
   "outputs": [
    {
     "output_type": "execute_result",
     "data": {
      "text/plain": [
       "SOGNEKODE\n",
       "9130     Mejdal\n",
       "8096     Gosmer\n",
       "8827    Gørding\n",
       "8827    Gørding\n",
       "8827    Gørding\n",
       "         ...   \n",
       "7485      Nyord\n",
       "7485      Nyord\n",
       "7485      Nyord\n",
       "7485      Nyord\n",
       "7485      Nyord\n",
       "Name: SOGNENAVN, Length: 1900, dtype: object"
      ]
     },
     "metadata": {},
     "execution_count": 44
    }
   ],
   "source": [
    "df = sogne['SOGNENAVN'][sogne_map.unique()]\n",
    "df[df.duplicated()]"
   ]
  },
  {
   "cell_type": "code",
   "execution_count": 57,
   "metadata": {},
   "outputs": [
    {
     "output_type": "execute_result",
     "data": {
      "text/plain": [
       "array([9214, 8148, 8011, ..., 7669, 8866, 8894], dtype=int64)"
      ]
     },
     "metadata": {},
     "execution_count": 57
    }
   ],
   "source": [
    "sogne_map.values"
   ]
  },
  {
   "cell_type": "code",
   "execution_count": 59,
   "metadata": {},
   "outputs": [
    {
     "output_type": "execute_result",
     "data": {
      "text/plain": [
       "FEAT_ID                                                  105572\n",
       "FEAT_KODE                                                  6310\n",
       "FEAT_TYPE                                                  Sogn\n",
       "FEAT_STTXT                                             vedtaget\n",
       "GEOM_STTXT                                              endelig\n",
       "DAGI_ID                                                  413184\n",
       "AREAL                                                   1170.66\n",
       "GYLDIG_FRA                                           2018-01-22\n",
       "GYLDIG_TIL                                                 None\n",
       "SOGNENAVN                                              Bjerring\n",
       "DQ_SPECIFK                                     DS_DAGI_v1.0_REF\n",
       "DQ_STATEM                 Digitaliseret pba. referencemateriale\n",
       "DQ_DESCR                   Manuelt indtegnet pba. FOT/matriklen\n",
       "DQ_PROCESS                                                 SDFE\n",
       "DQ_RESPONS                                     Kirkeministeriet\n",
       "DQ_POSACPL                                                    1\n",
       "DQ_POSACLV                                                 None\n",
       "TIMEOF_CRE                                           2018-01-22\n",
       "TIMEOF_PUB                                           2018-01-22\n",
       "TIMEOF_REV                                                 None\n",
       "TIMEOF_EXP                                           2021-02-20\n",
       "geometry      POLYGON Z ((9.634358733413722 56.3657539366888...\n",
       "idx                                                        2059\n",
       "Name: 9214, dtype: object"
      ]
     },
     "metadata": {},
     "execution_count": 59
    }
   ],
   "source": [
    "sogne.loc[9214]"
   ]
  },
  {
   "cell_type": "code",
   "execution_count": 60,
   "metadata": {},
   "outputs": [
    {
     "output_type": "error",
     "ename": "KeyError",
     "evalue": "\"None of [Int64Index([9214, 8148, 8011, 8578, 8725, 8074, 8328, 7435, 8948, 7205,\\n            ...\\n            8369, 8366, 7764, 8862, 7668, 8059, 7485, 7669, 8866, 8894],\\n           dtype='int64', length=2140)] are in the [columns]\"",
     "traceback": [
      "\u001b[1;31m---------------------------------------------------------------------------\u001b[0m",
      "\u001b[1;31mKeyError\u001b[0m                                  Traceback (most recent call last)",
      "\u001b[1;32m<ipython-input-60-dc8184872f3a>\u001b[0m in \u001b[0;36m<module>\u001b[1;34m\u001b[0m\n\u001b[1;32m----> 1\u001b[1;33m \u001b[0msogne\u001b[0m\u001b[1;33m[\u001b[0m\u001b[0mlabel_map\u001b[0m\u001b[1;33m.\u001b[0m\u001b[0mindex\u001b[0m\u001b[1;33m]\u001b[0m\u001b[1;33m\u001b[0m\u001b[1;33m\u001b[0m\u001b[0m\n\u001b[0m",
      "\u001b[1;32m~\\Miniconda3\\envs\\NetworkSIR\\lib\\site-packages\\geopandas\\geodataframe.py\u001b[0m in \u001b[0;36m__getitem__\u001b[1;34m(self, key)\u001b[0m\n\u001b[0;32m    826\u001b[0m         \u001b[0mGeoDataFrame\u001b[0m\u001b[1;33m.\u001b[0m\u001b[1;33m\u001b[0m\u001b[1;33m\u001b[0m\u001b[0m\n\u001b[0;32m    827\u001b[0m         \"\"\"\n\u001b[1;32m--> 828\u001b[1;33m         \u001b[0mresult\u001b[0m \u001b[1;33m=\u001b[0m \u001b[0msuper\u001b[0m\u001b[1;33m(\u001b[0m\u001b[0mGeoDataFrame\u001b[0m\u001b[1;33m,\u001b[0m \u001b[0mself\u001b[0m\u001b[1;33m)\u001b[0m\u001b[1;33m.\u001b[0m\u001b[0m__getitem__\u001b[0m\u001b[1;33m(\u001b[0m\u001b[0mkey\u001b[0m\u001b[1;33m)\u001b[0m\u001b[1;33m\u001b[0m\u001b[1;33m\u001b[0m\u001b[0m\n\u001b[0m\u001b[0;32m    829\u001b[0m         \u001b[0mgeo_col\u001b[0m \u001b[1;33m=\u001b[0m \u001b[0mself\u001b[0m\u001b[1;33m.\u001b[0m\u001b[0m_geometry_column_name\u001b[0m\u001b[1;33m\u001b[0m\u001b[1;33m\u001b[0m\u001b[0m\n\u001b[0;32m    830\u001b[0m         \u001b[1;32mif\u001b[0m \u001b[0misinstance\u001b[0m\u001b[1;33m(\u001b[0m\u001b[0mresult\u001b[0m\u001b[1;33m,\u001b[0m \u001b[0mSeries\u001b[0m\u001b[1;33m)\u001b[0m \u001b[1;32mand\u001b[0m \u001b[0misinstance\u001b[0m\u001b[1;33m(\u001b[0m\u001b[0mresult\u001b[0m\u001b[1;33m.\u001b[0m\u001b[0mdtype\u001b[0m\u001b[1;33m,\u001b[0m \u001b[0mGeometryDtype\u001b[0m\u001b[1;33m)\u001b[0m\u001b[1;33m:\u001b[0m\u001b[1;33m\u001b[0m\u001b[1;33m\u001b[0m\u001b[0m\n",
      "\u001b[1;32m~\\Miniconda3\\envs\\NetworkSIR\\lib\\site-packages\\pandas\\core\\frame.py\u001b[0m in \u001b[0;36m__getitem__\u001b[1;34m(self, key)\u001b[0m\n\u001b[0;32m   3028\u001b[0m             \u001b[1;32mif\u001b[0m \u001b[0mis_iterator\u001b[0m\u001b[1;33m(\u001b[0m\u001b[0mkey\u001b[0m\u001b[1;33m)\u001b[0m\u001b[1;33m:\u001b[0m\u001b[1;33m\u001b[0m\u001b[1;33m\u001b[0m\u001b[0m\n\u001b[0;32m   3029\u001b[0m                 \u001b[0mkey\u001b[0m \u001b[1;33m=\u001b[0m \u001b[0mlist\u001b[0m\u001b[1;33m(\u001b[0m\u001b[0mkey\u001b[0m\u001b[1;33m)\u001b[0m\u001b[1;33m\u001b[0m\u001b[1;33m\u001b[0m\u001b[0m\n\u001b[1;32m-> 3030\u001b[1;33m             \u001b[0mindexer\u001b[0m \u001b[1;33m=\u001b[0m \u001b[0mself\u001b[0m\u001b[1;33m.\u001b[0m\u001b[0mloc\u001b[0m\u001b[1;33m.\u001b[0m\u001b[0m_get_listlike_indexer\u001b[0m\u001b[1;33m(\u001b[0m\u001b[0mkey\u001b[0m\u001b[1;33m,\u001b[0m \u001b[0maxis\u001b[0m\u001b[1;33m=\u001b[0m\u001b[1;36m1\u001b[0m\u001b[1;33m,\u001b[0m \u001b[0mraise_missing\u001b[0m\u001b[1;33m=\u001b[0m\u001b[1;32mTrue\u001b[0m\u001b[1;33m)\u001b[0m\u001b[1;33m[\u001b[0m\u001b[1;36m1\u001b[0m\u001b[1;33m]\u001b[0m\u001b[1;33m\u001b[0m\u001b[1;33m\u001b[0m\u001b[0m\n\u001b[0m\u001b[0;32m   3031\u001b[0m \u001b[1;33m\u001b[0m\u001b[0m\n\u001b[0;32m   3032\u001b[0m         \u001b[1;31m# take() does not accept boolean indexers\u001b[0m\u001b[1;33m\u001b[0m\u001b[1;33m\u001b[0m\u001b[1;33m\u001b[0m\u001b[0m\n",
      "\u001b[1;32m~\\Miniconda3\\envs\\NetworkSIR\\lib\\site-packages\\pandas\\core\\indexing.py\u001b[0m in \u001b[0;36m_get_listlike_indexer\u001b[1;34m(self, key, axis, raise_missing)\u001b[0m\n\u001b[0;32m   1264\u001b[0m             \u001b[0mkeyarr\u001b[0m\u001b[1;33m,\u001b[0m \u001b[0mindexer\u001b[0m\u001b[1;33m,\u001b[0m \u001b[0mnew_indexer\u001b[0m \u001b[1;33m=\u001b[0m \u001b[0max\u001b[0m\u001b[1;33m.\u001b[0m\u001b[0m_reindex_non_unique\u001b[0m\u001b[1;33m(\u001b[0m\u001b[0mkeyarr\u001b[0m\u001b[1;33m)\u001b[0m\u001b[1;33m\u001b[0m\u001b[1;33m\u001b[0m\u001b[0m\n\u001b[0;32m   1265\u001b[0m \u001b[1;33m\u001b[0m\u001b[0m\n\u001b[1;32m-> 1266\u001b[1;33m         \u001b[0mself\u001b[0m\u001b[1;33m.\u001b[0m\u001b[0m_validate_read_indexer\u001b[0m\u001b[1;33m(\u001b[0m\u001b[0mkeyarr\u001b[0m\u001b[1;33m,\u001b[0m \u001b[0mindexer\u001b[0m\u001b[1;33m,\u001b[0m \u001b[0maxis\u001b[0m\u001b[1;33m,\u001b[0m \u001b[0mraise_missing\u001b[0m\u001b[1;33m=\u001b[0m\u001b[0mraise_missing\u001b[0m\u001b[1;33m)\u001b[0m\u001b[1;33m\u001b[0m\u001b[1;33m\u001b[0m\u001b[0m\n\u001b[0m\u001b[0;32m   1267\u001b[0m         \u001b[1;32mreturn\u001b[0m \u001b[0mkeyarr\u001b[0m\u001b[1;33m,\u001b[0m \u001b[0mindexer\u001b[0m\u001b[1;33m\u001b[0m\u001b[1;33m\u001b[0m\u001b[0m\n\u001b[0;32m   1268\u001b[0m \u001b[1;33m\u001b[0m\u001b[0m\n",
      "\u001b[1;32m~\\Miniconda3\\envs\\NetworkSIR\\lib\\site-packages\\pandas\\core\\indexing.py\u001b[0m in \u001b[0;36m_validate_read_indexer\u001b[1;34m(self, key, indexer, axis, raise_missing)\u001b[0m\n\u001b[0;32m   1306\u001b[0m             \u001b[1;32mif\u001b[0m \u001b[0mmissing\u001b[0m \u001b[1;33m==\u001b[0m \u001b[0mlen\u001b[0m\u001b[1;33m(\u001b[0m\u001b[0mindexer\u001b[0m\u001b[1;33m)\u001b[0m\u001b[1;33m:\u001b[0m\u001b[1;33m\u001b[0m\u001b[1;33m\u001b[0m\u001b[0m\n\u001b[0;32m   1307\u001b[0m                 \u001b[0maxis_name\u001b[0m \u001b[1;33m=\u001b[0m \u001b[0mself\u001b[0m\u001b[1;33m.\u001b[0m\u001b[0mobj\u001b[0m\u001b[1;33m.\u001b[0m\u001b[0m_get_axis_name\u001b[0m\u001b[1;33m(\u001b[0m\u001b[0maxis\u001b[0m\u001b[1;33m)\u001b[0m\u001b[1;33m\u001b[0m\u001b[1;33m\u001b[0m\u001b[0m\n\u001b[1;32m-> 1308\u001b[1;33m                 \u001b[1;32mraise\u001b[0m \u001b[0mKeyError\u001b[0m\u001b[1;33m(\u001b[0m\u001b[1;34mf\"None of [{key}] are in the [{axis_name}]\"\u001b[0m\u001b[1;33m)\u001b[0m\u001b[1;33m\u001b[0m\u001b[1;33m\u001b[0m\u001b[0m\n\u001b[0m\u001b[0;32m   1309\u001b[0m \u001b[1;33m\u001b[0m\u001b[0m\n\u001b[0;32m   1310\u001b[0m             \u001b[0max\u001b[0m \u001b[1;33m=\u001b[0m \u001b[0mself\u001b[0m\u001b[1;33m.\u001b[0m\u001b[0mobj\u001b[0m\u001b[1;33m.\u001b[0m\u001b[0m_get_axis\u001b[0m\u001b[1;33m(\u001b[0m\u001b[0maxis\u001b[0m\u001b[1;33m)\u001b[0m\u001b[1;33m\u001b[0m\u001b[1;33m\u001b[0m\u001b[0m\n",
      "\u001b[1;31mKeyError\u001b[0m: \"None of [Int64Index([9214, 8148, 8011, 8578, 8725, 8074, 8328, 7435, 8948, 7205,\\n            ...\\n            8369, 8366, 7764, 8862, 7668, 8059, 7485, 7669, 8866, 8894],\\n           dtype='int64', length=2140)] are in the [columns]\""
     ]
    }
   ],
   "source": [
    "sogne[label_map.index]"
   ]
  }
 ]
}